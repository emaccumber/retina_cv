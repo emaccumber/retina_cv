{
 "cells": [
  {
   "cell_type": "code",
   "execution_count": 1,
   "id": "f31ecf99-16cc-4fec-9035-4300cb03c9ad",
   "metadata": {
    "scrolled": true
   },
   "outputs": [
    {
     "name": "stdout",
     "output_type": "stream",
     "text": [
      "Enabling: voila\n",
      "- Writing config: /Users/ethan/miniconda3/envs/ml-study-py/etc/jupyter\n",
      "    - Validating...\n",
      "      voila 0.5.8 \u001b[32mOK\u001b[0m\n"
     ]
    }
   ],
   "source": [
    "!jupyter serverextension enable --sys-prefix voila"
   ]
  },
  {
   "cell_type": "code",
   "execution_count": 53,
   "id": "e616303f-3a11-445d-ad7a-81bfb4df9e3f",
   "metadata": {},
   "outputs": [],
   "source": [
    "class_names_det = ['Normal',\n",
    "                   'Hollenhorst Emboli',\n",
    "                   'Hypertensive Retinopathy',\n",
    "                   'Coat\\'s',\n",
    "                   'Macroaneurism',\n",
    "                   'Choroidal Neovascularization',\n",
    "                   'Other',\n",
    "                   'Branch Retinal Artery Occlusion',\n",
    "                   'Cilio-Retinal Artery Occlusion',\n",
    "                   'Branch Retinal Vein Occlusion',\n",
    "                   'Central Retinal Vein Occlusion',\n",
    "                   'Hemi-Central Retinal Vein Occlusion',\n",
    "                   'Background Diabetic Retinopathy',\n",
    "                   'Proliferative Diabetic Retinopathy',\n",
    "                   'Arteriosclerotic Retinopathy']\n"
   ]
  },
  {
   "cell_type": "code",
   "execution_count": 54,
   "id": "f5c76550-adfe-485a-9d32-bf5ffeadb3fc",
   "metadata": {},
   "outputs": [],
   "source": [
    "from fastbook import *\n",
    "from fastai.vision.widgets import *"
   ]
  },
  {
   "cell_type": "code",
   "execution_count": 55,
   "id": "ff00d966-c60c-4788-856d-a39d9486cdfd",
   "metadata": {},
   "outputs": [],
   "source": [
    "learn_ianf = load_learner('export.pkl')"
   ]
  },
  {
   "cell_type": "code",
   "execution_count": 88,
   "id": "20afdbf1-a6d4-4fed-982f-e578a255e129",
   "metadata": {},
   "outputs": [],
   "source": [
    "%matplotlib inline\n",
    "\n",
    "btn_upload = widgets.FileUpload()\n",
    "\n",
    "btn_run = widgets.Button(description='Classify')\n",
    "\n",
    "def on_click_classify(change):\n",
    "    img = PILImage.create(btn_upload.data[-1])\n",
    "    out_pl.clear_output()\n",
    "    with out_pl: display(img.to_thumb(128,128))\n",
    "    pred,pred_idx,probs = learn_inf.predict(img)\n",
    "    probs_np = probs.numpy()\n",
    "\n",
    "    graph.clear_output()\n",
    "    with graph: \n",
    "        pred,pred_idx,probs = learn_inf.predict(img)\n",
    "        plt.figure(figsize=(8, 6))\n",
    "        y_pos = np.arange(len(class_names_det))\n",
    "        probs_np = 34\n",
    "        plt.barh(y_pos, probs_np, align='center', color='skyblue')\n",
    "        plt.yticks(y_pos, class_names_det)\n",
    "        plt.xlabel('Probability')\n",
    "        plt.title('Predicted Probabilities for Each Condition')\n",
    "        plt.gca().invert_yaxis()  # Invert y-axis so highest probabilities are at the top\n",
    "        plt.tight_layout()\n",
    "        plt.show()\n",
    "        display(graph)\n",
    "    \n",
    "\n",
    "btn_run.on_click(on_click_classify)\n",
    "\n",
    "btn_upload = widgets.FileUpload()\n",
    "\n",
    "out_pl = widgets.Output()"
   ]
  },
  {
   "cell_type": "code",
   "execution_count": 94,
   "id": "4a177278-6da1-4930-9f76-c3892d24a989",
   "metadata": {
    "scrolled": true
   },
   "outputs": [
    {
     "data": {
      "application/vnd.jupyter.widget-view+json": {
       "model_id": "89854ef1a5244d138ca1ebcbe5385996",
       "version_major": 2,
       "version_minor": 0
      },
      "text/plain": [
       "VBox(children=(Label(value='Select your retina.'), FileUpload(value=(), description='Upload'), Button(descript…"
      ]
     },
     "execution_count": 94,
     "metadata": {},
     "output_type": "execute_result"
    }
   ],
   "source": [
    "VBox([widgets.Label('Select your retina.'), \n",
    "      btn_upload, btn_run, out_pl, graph])"
   ]
  },
  {
   "cell_type": "code",
   "execution_count": null,
   "id": "c9ccb763-4f0f-4d20-a43c-c7b5b44ea86d",
   "metadata": {},
   "outputs": [],
   "source": []
  }
 ],
 "metadata": {
  "kernelspec": {
   "display_name": "Python 3 (ipykernel)",
   "language": "python",
   "name": "python3"
  },
  "language_info": {
   "codemirror_mode": {
    "name": "ipython",
    "version": 3
   },
   "file_extension": ".py",
   "mimetype": "text/x-python",
   "name": "python",
   "nbconvert_exporter": "python",
   "pygments_lexer": "ipython3",
   "version": "3.12.2"
  }
 },
 "nbformat": 4,
 "nbformat_minor": 5
}
